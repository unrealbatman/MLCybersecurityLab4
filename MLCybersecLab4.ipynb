{
 "cells": [
  {
   "cell_type": "code",
   "execution_count": 1,
   "id": "2460509e",
   "metadata": {},
   "outputs": [],
   "source": [
    "#importing libraries\n",
    "import pandas as pd\n",
    "import seaborn as sns\n",
    "import keras\n",
    "from tqdm import tqdm\n",
    "import os\n",
    "import tarfile\n",
    "import requests\n",
    "import re\n",
    "import sys\n",
    "import warnings\n",
    "warnings.filterwarnings('ignore')\n",
    "import h5py\n",
    "import numpy as np\n",
    "import tensorflow as tf\n",
    "from tensorflow import keras\n",
    "from keras import backend as K\n",
    "from keras.models import Model\n",
    "import matplotlib.pyplot as plt\n",
    "from mpl_toolkits.axes_grid1.inset_locator import inset_axes\n",
    "import matplotlib.font_manager as font_manager\n",
    "import cv2"
   ]
  },
  {
   "cell_type": "markdown",
   "id": "8ff953c5",
   "metadata": {},
   "source": [
    "BadNets"
   ]
  },
  {
   "cell_type": "code",
   "execution_count": 2,
   "id": "a14c91a1",
   "metadata": {},
   "outputs": [],
   "source": [
    "def load_data(filepath):\n",
    "    # Open the HDF5 file in read mode\n",
    "    data = h5py.File(filepath, 'r')\n",
    "    \n",
    "    # Extract data and labels\n",
    "    x_data = np.array(data['data'])  # Extract data from 'data' group\n",
    "    y_data = np.array(data['label'])  # Extract labels from 'label' group\n",
    "    \n",
    "    # Transpose data to correct axis order (from NCHW to NHWC)\n",
    "    x_data = x_data.transpose((0, 2, 3, 1))\n",
    "    \n",
    "    return x_data, y_data\n"
   ]
  },
  {
   "cell_type": "code",
   "execution_count": 3,
   "id": "cbecfcff",
   "metadata": {},
   "outputs": [],
   "source": [
    "cl_file = 'C:\\\\Users\\\\DarkShepard\\\\Desktop\\\\lab3\\\\cl\\\\valid.h5'\n",
    "pd_file = 'C:\\\\Users\\\\DarkShepard\\\\Desktop\\\\lab3\\\\bd\\\\bd_valid.h5'\n",
    "model_file = 'C:\\\\Users\\\\DarkShepard\\\\Desktop\\\\lab3\\\\model\\\\bd_net.h5'\n",
    "weight_file = 'C:\\\\Users\\\\DarkShepard\\\\Desktop\\\\lab3\\\\model\\\\bd_weights.h5'"
   ]
  },
  {
   "cell_type": "code",
   "execution_count": 4,
   "id": "36872eeb",
   "metadata": {},
   "outputs": [
    {
     "name": "stdout",
     "output_type": "stream",
     "text": [
      "Model: \"model_1\"\n",
      "__________________________________________________________________________________________________\n",
      " Layer (type)                   Output Shape         Param #     Connected to                     \n",
      "==================================================================================================\n",
      " input (InputLayer)             [(None, 55, 47, 3)]  0           []                               \n",
      "                                                                                                  \n",
      " conv_1 (Conv2D)                (None, 52, 44, 20)   980         ['input[0][0]']                  \n",
      "                                                                                                  \n",
      " pool_1 (MaxPooling2D)          (None, 26, 22, 20)   0           ['conv_1[0][0]']                 \n",
      "                                                                                                  \n",
      " conv_2 (Conv2D)                (None, 24, 20, 40)   7240        ['pool_1[0][0]']                 \n",
      "                                                                                                  \n",
      " pool_2 (MaxPooling2D)          (None, 12, 10, 40)   0           ['conv_2[0][0]']                 \n",
      "                                                                                                  \n",
      " conv_3 (Conv2D)                (None, 10, 8, 60)    21660       ['pool_2[0][0]']                 \n",
      "                                                                                                  \n",
      " pool_3 (MaxPooling2D)          (None, 5, 4, 60)     0           ['conv_3[0][0]']                 \n",
      "                                                                                                  \n",
      " conv_4 (Conv2D)                (None, 4, 3, 80)     19280       ['pool_3[0][0]']                 \n",
      "                                                                                                  \n",
      " flatten_1 (Flatten)            (None, 1200)         0           ['pool_3[0][0]']                 \n",
      "                                                                                                  \n",
      " flatten_2 (Flatten)            (None, 960)          0           ['conv_4[0][0]']                 \n",
      "                                                                                                  \n",
      " fc_1 (Dense)                   (None, 160)          192160      ['flatten_1[0][0]']              \n",
      "                                                                                                  \n",
      " fc_2 (Dense)                   (None, 160)          153760      ['flatten_2[0][0]']              \n",
      "                                                                                                  \n",
      " add_1 (Add)                    (None, 160)          0           ['fc_1[0][0]',                   \n",
      "                                                                  'fc_2[0][0]']                   \n",
      "                                                                                                  \n",
      " activation_1 (Activation)      (None, 160)          0           ['add_1[0][0]']                  \n",
      "                                                                                                  \n",
      " output (Dense)                 (None, 1283)         206563      ['activation_1[0][0]']           \n",
      "                                                                                                  \n",
      "==================================================================================================\n",
      "Total params: 601,643\n",
      "Trainable params: 601,643\n",
      "Non-trainable params: 0\n",
      "__________________________________________________________________________________________________\n",
      "361/361 [==============================] - 7s 3ms/step\n",
      "Clean Validation Classification accuracy: 98.64899974019225\n",
      "361/361 [==============================] - 1s 2ms/step\n",
      "BD Validation Success Rate: 100.0\n"
     ]
    }
   ],
   "source": [
    "def main():\n",
    "    # Load clean and backdoored validation data\n",
    "    cl_X_val, cl_y_val = load_data(cl_file)  # Loading clean validation data\n",
    "    bd_X_val, bd_y_val = load_data(pd_file)  # Loading backdoored validation data\n",
    "\n",
    "    # Load BadNet (B) model and its weights\n",
    "    B = keras.models.load_model(model_file)  # Load BadNet model\n",
    "    B.load_weights(weight_file)  # Load weights for BadNet\n",
    "    B.summary()  # Print BadNet model summary\n",
    "\n",
    "    # Evaluate BadNet on clean validation data\n",
    "    cl_pred = np.argmax(B.predict(cl_X_val), axis=1)  # Predict on clean validation data\n",
    "    clean_accuracy = np.mean(np.equal(cl_pred, cl_y_val)) * 100  # Calculate clean accuracy\n",
    "    print('Clean Validation Classification accuracy:', clean_accuracy)\n",
    "\n",
    "    # Evaluate BadNet on backdoored validation data\n",
    "    bd_pred = np.argmax(B.predict(bd_X_val), axis=1)  # Predict on backdoored validation data\n",
    "    sr = np.mean(np.equal(bd_pred, bd_y_val)) * 100  # Calculate success rate\n",
    "    print('BD Validation Success Rate:', sr)\n",
    "\n",
    "if __name__ == '__main__':\n",
    "    main()\n"
   ]
  },
  {
   "cell_type": "markdown",
   "id": "7238984b",
   "metadata": {},
   "source": [
    "Clean Data Visualisation"
   ]
  },
  {
   "cell_type": "code",
   "execution_count": 5,
   "id": "edacca07",
   "metadata": {},
   "outputs": [
    {
     "data": {
      "image/png": "[encoded data removed]",
      "text/plain": [
       "<Figure size 1000x800 with 9 Axes>"
      ]
     },
     "metadata": {},
     "output_type": "display_data"
    }
   ],
   "source": [
    "x_data, y_data = load_data(cl_file)\n",
    "figure = plt.figure(figsize=(10,8))\n",
    "cols, rows = 3,3\n",
    "for i in range(1, cols*rows+1):\n",
    "  index = np.random.randint(x_data.shape[0], size=1)\n",
    "  img, label = (x_data[index], y_data[index])\n",
    "  figure.add_subplot(rows, cols, i)\n",
    "  plt.title(\"true label: {}\".format(label))\n",
    "  plt.axis(\"off\")\n",
    "  plt.imshow(img[0]/255)\n",
    "plt.show()"
   ]
  },
  {
   "cell_type": "markdown",
   "id": "e01a0bb1",
   "metadata": {},
   "source": [
    "Poisoned Data Visualisation"
   ]
  },
  {
   "cell_type": "code",
   "execution_count": 6,
   "id": "a7ad5070",
   "metadata": {},
   "outputs": [
    {
     "data": {
      "image/png": "[encoded data removed]",
      "text/plain": [
       "<Figure size 1000x800 with 9 Axes>"
      ]
     },
     "metadata": {},
     "output_type": "display_data"
    }
   ],
   "source": [
    "x_poisoned_data, y_poisoned_data = load_data(pd_file)\n",
    "figure = plt.figure(figsize=(10,8))\n",
    "cols, rows = 3,3\n",
    "for i in range(1, cols*rows+1):\n",
    "  index = np.random.randint(x_poisoned_data.shape[0], size=1)\n",
    "  img, label = (x_poisoned_data[index], y_poisoned_data[index])\n",
    "  figure.add_subplot(rows, cols, i)\n",
    "  plt.title(\"true label: {}\".format(label))\n",
    "  plt.axis(\"off\")\n",
    "  plt.imshow(img[0]/255)\n",
    "plt.show()"
   ]
  },
  {
   "cell_type": "code",
   "execution_count": 7,
   "id": "ad0ce376",
   "metadata": {},
   "outputs": [],
   "source": [
    "keras.backend.clear_session()"
   ]
  },
  {
   "cell_type": "markdown",
   "id": "34231267",
   "metadata": {},
   "source": [
    "# Pruning\n"
   ]
  },
  {
   "cell_type": "code",
   "execution_count": 8,
   "id": "e44b0a5e",
   "metadata": {},
   "outputs": [
    {
     "name": "stdout",
     "output_type": "stream",
     "text": [
      "Num GPUs Available: 1\n"
     ]
    }
   ],
   "source": [
    "import tensorflow as tf\n",
    "\n",
    "# Check available GPUs\n",
    "physical_devices = tf.config.list_physical_devices('GPU')\n",
    "print(\"Num GPUs Available:\", len(physical_devices))\n",
    "\n"
   ]
  },
  {
   "cell_type": "code",
   "execution_count": 9,
   "id": "af445203",
   "metadata": {},
   "outputs": [
    {
     "name": "stdout",
     "output_type": "stream",
     "text": [
      "Model: \"model\"\n",
      "_________________________________________________________________\n",
      " Layer (type)                Output Shape              Param #   \n",
      "=================================================================\n",
      " input (InputLayer)          [(None, 55, 47, 3)]       0         \n",
      "                                                                 \n",
      " conv_1 (Conv2D)             (None, 52, 44, 20)        980       \n",
      "                                                                 \n",
      " pool_1 (MaxPooling2D)       (None, 26, 22, 20)        0         \n",
      "                                                                 \n",
      " conv_2 (Conv2D)             (None, 24, 20, 40)        7240      \n",
      "                                                                 \n",
      " pool_2 (MaxPooling2D)       (None, 12, 10, 40)        0         \n",
      "                                                                 \n",
      " conv_3 (Conv2D)             (None, 10, 8, 60)         21660     \n",
      "                                                                 \n",
      " pool_3 (MaxPooling2D)       (None, 5, 4, 60)          0         \n",
      "                                                                 \n",
      "=================================================================\n",
      "Total params: 29,880\n",
      "Trainable params: 29,880\n",
      "Non-trainable params: 0\n",
      "_________________________________________________________________\n"
     ]
    }
   ],
   "source": [
    "# Load the model and its weights for B_dash\n",
    "B_d = keras.models.load_model(model_file)  # Load BadNet B_dash model\n",
    "B_d.load_weights(weight_file)  # Load weights for BadNet B_dash\n",
    "\n",
    "# Get input and output layers for the desired pooling layer ('pool_3' in this case)\n",
    "input_layer = B_d.input  # Get the input layer of the model\n",
    "output_layer = B_d.get_layer('pool_3').output  # Get the output of the 'pool_3' layer\n",
    "\n",
    "# Create a new model to obtain the intermediate output from the 'pool_3' layer\n",
    "intermediate_pooling_model = keras.models.Model(inputs=input_layer, outputs=output_layer)\n",
    "\n",
    "# Print summary of the intermediate pooling model\n",
    "intermediate_pooling_model.summary()\n"
   ]
  },
  {
   "cell_type": "code",
   "execution_count": 10,
   "id": "dffa5bd7",
   "metadata": {},
   "outputs": [],
   "source": [
    "# getting the data\n",
    "cl_X_val, cl_y_val = load_data(cl_file)\n",
    "bd_X_val, bd_y_val = load_data(pd_file)"
   ]
  },
  {
   "cell_type": "markdown",
   "id": "773b2033",
   "metadata": {},
   "source": [
    "The following code prunes channels from the 'conv_3' layer of the BadNet $B\\_dash$ model based on the mean activations from the 'pool_3' layer. It iterates through the channels sorted by mean activations, prunes each channel, evaluates clean accuracy, saves the model based on specified accuracy drop conditions, measures the attack success rate, and prints the relevant metrics. Finally, it performs garbage collection to free up memory."
   ]
  },
  {
   "cell_type": "code",
   "execution_count": 11,
   "id": "30eb5cb6",
   "metadata": {},
   "outputs": [
    {
     "name": "stderr",
     "output_type": "stream",
     "text": [
      "\r",
      "  0%|                                                                                           | 0/60 [00:00<?, ?it/s]"
     ]
    },
    {
     "name": "stdout",
     "output_type": "stream",
     "text": [
      "361/361 [==============================] - 1s 2ms/step\n",
      "361/361 [==============================] - 1s 2ms/step\n",
      "\n",
      "The clean accuracy is:  98.64899974019225\n",
      "The attack success rate is:  100.0\n",
      "The pruned channel index is:  0\n"
     ]
    },
    {
     "name": "stderr",
     "output_type": "stream",
     "text": [
      "\r",
      "  2%|█▍                                                                                 | 1/60 [00:03<03:25,  3.49s/it]"
     ]
    },
    {
     "name": "stdout",
     "output_type": "stream",
     "text": [
      "361/361 [==============================] - 1s 2ms/step\n",
      "361/361 [==============================] - 1s 3ms/step\n",
      "\n",
      "The clean accuracy is:  98.64899974019225\n",
      "The attack success rate is:  100.0\n",
      "The pruned channel index is:  26\n"
     ]
    },
    {
     "name": "stderr",
     "output_type": "stream",
     "text": [
      "\r",
      "  3%|██▊                                                                                | 2/60 [00:07<03:23,  3.51s/it]"
     ]
    },
    {
     "name": "stdout",
     "output_type": "stream",
     "text": [
      "361/361 [==============================] - 1s 2ms/step\n",
      "361/361 [==============================] - 1s 2ms/step\n",
      "\n",
      "The clean accuracy is:  98.64899974019225\n",
      "The attack success rate is:  100.0\n",
      "The pruned channel index is:  27\n"
     ]
    },
    {
     "name": "stderr",
     "output_type": "stream",
     "text": [
      "\r",
      "  5%|████▏                                                                              | 3/60 [00:10<03:11,  3.36s/it]"
     ]
    },
    {
     "name": "stdout",
     "output_type": "stream",
     "text": [
      "361/361 [==============================] - 1s 3ms/step\n",
      "361/361 [==============================] - 1s 4ms/step\n",
      "\n",
      "The clean accuracy is:  98.64899974019225\n",
      "The attack success rate is:  100.0\n",
      "The pruned channel index is:  30\n"
     ]
    },
    {
     "name": "stderr",
     "output_type": "stream",
     "text": [
      "\r",
      "  7%|█████▌                                                                             | 4/60 [00:13<03:16,  3.51s/it]"
     ]
    },
    {
     "name": "stdout",
     "output_type": "stream",
     "text": [
      "361/361 [==============================] - 1s 3ms/step\n",
      "361/361 [==============================] - 1s 3ms/step\n",
      "\n",
      "The clean accuracy is:  98.64899974019225\n",
      "The attack success rate is:  100.0\n",
      "The pruned channel index is:  31\n"
     ]
    },
    {
     "name": "stderr",
     "output_type": "stream",
     "text": [
      "\r",
      "  8%|██████▉                                                                            | 5/60 [00:17<03:10,  3.47s/it]"
     ]
    },
    {
     "name": "stdout",
     "output_type": "stream",
     "text": [
      "361/361 [==============================] - 1s 2ms/step\n",
      "361/361 [==============================] - 1s 3ms/step\n",
      "\n",
      "The clean accuracy is:  98.64899974019225\n",
      "The attack success rate is:  100.0\n",
      "The pruned channel index is:  33\n"
     ]
    },
    {
     "name": "stderr",
     "output_type": "stream",
     "text": [
      "\r",
      " 10%|████████▎                                                                          | 6/60 [00:20<03:05,  3.43s/it]"
     ]
    },
    {
     "name": "stdout",
     "output_type": "stream",
     "text": [
      "361/361 [==============================] - 1s 2ms/step\n",
      "361/361 [==============================] - 1s 2ms/step\n",
      "\n",
      "The clean accuracy is:  98.64899974019225\n",
      "The attack success rate is:  100.0\n",
      "The pruned channel index is:  34\n"
     ]
    },
    {
     "name": "stderr",
     "output_type": "stream",
     "text": [
      "\r",
      " 12%|█████████▋                                                                         | 7/60 [00:23<02:56,  3.33s/it]"
     ]
    },
    {
     "name": "stdout",
     "output_type": "stream",
     "text": [
      "361/361 [==============================] - 1s 3ms/step\n",
      "361/361 [==============================] - 1s 4ms/step\n",
      "\n",
      "The clean accuracy is:  98.64899974019225\n",
      "The attack success rate is:  100.0\n",
      "The pruned channel index is:  36\n"
     ]
    },
    {
     "name": "stderr",
     "output_type": "stream",
     "text": [
      "\r",
      " 13%|███████████                                                                        | 8/60 [00:28<03:07,  3.61s/it]"
     ]
    },
    {
     "name": "stdout",
     "output_type": "stream",
     "text": [
      "361/361 [==============================] - 2s 4ms/step\n",
      "361/361 [==============================] - 2s 5ms/step\n",
      "\n",
      "The clean accuracy is:  98.64899974019225\n",
      "The attack success rate is:  100.0\n",
      "The pruned channel index is:  37\n"
     ]
    },
    {
     "name": "stderr",
     "output_type": "stream",
     "text": [
      "\r",
      " 15%|████████████▍                                                                      | 9/60 [00:33<03:33,  4.19s/it]"
     ]
    },
    {
     "name": "stdout",
     "output_type": "stream",
     "text": [
      "361/361 [==============================] - 2s 5ms/step\n",
      "361/361 [==============================] - 1s 4ms/step\n",
      "\n",
      "The clean accuracy is:  98.64899974019225\n",
      "The attack success rate is:  100.0\n",
      "The pruned channel index is:  38\n"
     ]
    },
    {
     "name": "stderr",
     "output_type": "stream",
     "text": [
      "\r",
      " 17%|█████████████▋                                                                    | 10/60 [00:39<03:52,  4.65s/it]"
     ]
    },
    {
     "name": "stdout",
     "output_type": "stream",
     "text": [
      "361/361 [==============================] - 2s 4ms/step\n",
      "361/361 [==============================] - 1s 3ms/step\n",
      "\n",
      "The clean accuracy is:  98.64899974019225\n",
      "The attack success rate is:  100.0\n",
      "The pruned channel index is:  25\n"
     ]
    },
    {
     "name": "stderr",
     "output_type": "stream",
     "text": [
      "\r",
      " 18%|███████████████                                                                   | 11/60 [00:43<03:45,  4.61s/it]"
     ]
    },
    {
     "name": "stdout",
     "output_type": "stream",
     "text": [
      "361/361 [==============================] - 1s 3ms/step\n",
      "361/361 [==============================] - 1s 4ms/step\n",
      "\n",
      "The clean accuracy is:  98.64899974019225\n",
      "The attack success rate is:  100.0\n",
      "The pruned channel index is:  39\n"
     ]
    },
    {
     "name": "stderr",
     "output_type": "stream",
     "text": [
      "\r",
      " 20%|████████████████▍                                                                 | 12/60 [00:47<03:32,  4.42s/it]"
     ]
    },
    {
     "name": "stdout",
     "output_type": "stream",
     "text": [
      "361/361 [==============================] - 1s 4ms/step\n",
      "361/361 [==============================] - 1s 3ms/step\n",
      "\n",
      "The clean accuracy is:  98.64899974019225\n",
      "The attack success rate is:  100.0\n",
      "The pruned channel index is:  41\n"
     ]
    },
    {
     "name": "stderr",
     "output_type": "stream",
     "text": [
      "\r",
      " 22%|█████████████████▊                                                                | 13/60 [00:51<03:17,  4.20s/it]"
     ]
    },
    {
     "name": "stdout",
     "output_type": "stream",
     "text": [
      "361/361 [==============================] - 1s 2ms/step\n",
      "361/361 [==============================] - 1s 3ms/step\n",
      "\n",
      "The clean accuracy is:  98.64899974019225\n",
      "The attack success rate is:  100.0\n",
      "The pruned channel index is:  44\n"
     ]
    },
    {
     "name": "stderr",
     "output_type": "stream",
     "text": [
      "\r",
      " 23%|███████████████████▏                                                              | 14/60 [00:54<03:00,  3.92s/it]"
     ]
    },
    {
     "name": "stdout",
     "output_type": "stream",
     "text": [
      "361/361 [==============================] - 1s 3ms/step\n",
      "361/361 [==============================] - 1s 3ms/step\n",
      "\n",
      "The clean accuracy is:  98.64899974019225\n",
      "The attack success rate is:  100.0\n",
      "The pruned channel index is:  45\n"
     ]
    },
    {
     "name": "stderr",
     "output_type": "stream",
     "text": [
      "\r",
      " 25%|████████████████████▌                                                             | 15/60 [00:58<02:49,  3.77s/it]"
     ]
    },
    {
     "name": "stdout",
     "output_type": "stream",
     "text": [
      "361/361 [==============================] - 1s 3ms/step\n",
      "361/361 [==============================] - 1s 2ms/step\n",
      "\n",
      "The clean accuracy is:  98.64899974019225\n",
      "The attack success rate is:  100.0\n",
      "The pruned channel index is:  47\n"
     ]
    },
    {
     "name": "stderr",
     "output_type": "stream",
     "text": [
      "\r",
      " 27%|█████████████████████▊                                                            | 16/60 [01:01<02:39,  3.62s/it]"
     ]
    },
    {
     "name": "stdout",
     "output_type": "stream",
     "text": [
      "361/361 [==============================] - 1s 3ms/step\n",
      "361/361 [==============================] - 1s 3ms/step\n",
      "\n",
      "The clean accuracy is:  98.64899974019225\n",
      "The attack success rate is:  100.0\n",
      "The pruned channel index is:  48\n"
     ]
    },
    {
     "name": "stderr",
     "output_type": "stream",
     "text": [
      "\r",
      " 28%|███████████████████████▏                                                          | 17/60 [01:05<02:39,  3.71s/it]"
     ]
    },
    {
     "name": "stdout",
     "output_type": "stream",
     "text": [
      "361/361 [==============================] - 1s 3ms/step\n",
      "361/361 [==============================] - 1s 3ms/step\n",
      "\n",
      "The clean accuracy is:  98.64899974019225\n",
      "The attack success rate is:  100.0\n",
      "The pruned channel index is:  49\n"
     ]
    },
    {
     "name": "stderr",
     "output_type": "stream",
     "text": [
      "\r",
      " 30%|████████████████████████▌                                                         | 18/60 [01:09<02:39,  3.81s/it]"
     ]
    },
    {
     "name": "stdout",
     "output_type": "stream",
     "text": [
      "361/361 [==============================] - 1s 3ms/step\n",
      "361/361 [==============================] - 1s 3ms/step\n",
      "\n",
      "The clean accuracy is:  98.64899974019225\n",
      "The attack success rate is:  100.0\n",
      "The pruned channel index is:  50\n"
     ]
    },
    {
     "name": "stderr",
     "output_type": "stream",
     "text": [
      "\r",
      " 32%|█████████████████████████▉                                                        | 19/60 [01:13<02:35,  3.78s/it]"
     ]
    },
    {
     "name": "stdout",
     "output_type": "stream",
     "text": [
      "361/361 [==============================] - 1s 3ms/step\n",
      "361/361 [==============================] - 1s 2ms/step\n",
      "\n",
      "The clean accuracy is:  98.64899974019225\n",
      "The attack success rate is:  100.0\n",
      "The pruned channel index is:  53\n"
     ]
    },
    {
     "name": "stderr",
     "output_type": "stream",
     "text": [
      "\r",
      " 33%|███████████████████████████▎                                                      | 20/60 [01:16<02:26,  3.66s/it]"
     ]
    },
    {
     "name": "stdout",
     "output_type": "stream",
     "text": [
      "361/361 [==============================] - 1s 3ms/step\n",
      "361/361 [==============================] - 1s 2ms/step\n",
      "\n",
      "The clean accuracy is:  98.64899974019225\n",
      "The attack success rate is:  100.0\n",
      "The pruned channel index is:  55\n"
     ]
    },
    {
     "name": "stderr",
     "output_type": "stream",
     "text": [
      "\r",
      " 35%|████████████████████████████▋                                                     | 21/60 [01:19<02:20,  3.60s/it]"
     ]
    },
    {
     "name": "stdout",
     "output_type": "stream",
     "text": [
      "361/361 [==============================] - 1s 3ms/step\n",
      "361/361 [==============================] - 1s 3ms/step\n",
      "\n",
      "The clean accuracy is:  98.64899974019225\n",
      "The attack success rate is:  100.0\n",
      "The pruned channel index is:  40\n"
     ]
    },
    {
     "name": "stderr",
     "output_type": "stream",
     "text": [
      "\r",
      " 37%|██████████████████████████████                                                    | 22/60 [01:23<02:14,  3.53s/it]"
     ]
    },
    {
     "name": "stdout",
     "output_type": "stream",
     "text": [
      "361/361 [==============================] - 1s 2ms/step\n",
      "361/361 [==============================] - 1s 2ms/step\n",
      "\n",
      "The clean accuracy is:  98.64899974019225\n",
      "The attack success rate is:  100.0\n",
      "The pruned channel index is:  24\n"
     ]
    },
    {
     "name": "stderr",
     "output_type": "stream",
     "text": [
      "\r",
      " 38%|███████████████████████████████▍                                                  | 23/60 [01:26<02:06,  3.41s/it]"
     ]
    },
    {
     "name": "stdout",
     "output_type": "stream",
     "text": [
      "361/361 [==============================] - 1s 3ms/step\n",
      "361/361 [==============================] - 1s 2ms/step\n",
      "\n",
      "The clean accuracy is:  98.64899974019225\n",
      "The attack success rate is:  100.0\n",
      "The pruned channel index is:  59\n"
     ]
    },
    {
     "name": "stderr",
     "output_type": "stream",
     "text": [
      "\r",
      " 40%|████████████████████████████████▊                                                 | 24/60 [01:29<02:00,  3.35s/it]"
     ]
    },
    {
     "name": "stdout",
     "output_type": "stream",
     "text": [
      "361/361 [==============================] - 1s 3ms/step\n",
      "361/361 [==============================] - 1s 3ms/step\n",
      "\n",
      "The clean accuracy is:  98.64899974019225\n",
      "The attack success rate is:  100.0\n",
      "The pruned channel index is:  9\n"
     ]
    },
    {
     "name": "stderr",
     "output_type": "stream",
     "text": [
      "\r",
      " 42%|██████████████████████████████████▏                                               | 25/60 [01:33<01:59,  3.43s/it]"
     ]
    },
    {
     "name": "stdout",
     "output_type": "stream",
     "text": [
      "361/361 [==============================] - 1s 3ms/step\n",
      "361/361 [==============================] - 1s 2ms/step\n",
      "\n",
      "The clean accuracy is:  98.64899974019225\n",
      "The attack success rate is:  100.0\n",
      "The pruned channel index is:  2\n"
     ]
    },
    {
     "name": "stderr",
     "output_type": "stream",
     "text": [
      "\r",
      " 43%|███████████████████████████████████▌                                              | 26/60 [01:36<01:55,  3.40s/it]"
     ]
    },
    {
     "name": "stdout",
     "output_type": "stream",
     "text": [
      "361/361 [==============================] - 1s 3ms/step\n",
      "361/361 [==============================] - 1s 2ms/step\n",
      "\n",
      "The clean accuracy is:  98.64899974019225\n",
      "The attack success rate is:  100.0\n",
      "The pruned channel index is:  12\n"
     ]
    },
    {
     "name": "stderr",
     "output_type": "stream",
     "text": [
      "\r",
      " 45%|████████████████████████████████████▉                                             | 27/60 [01:39<01:51,  3.37s/it]"
     ]
    },
    {
     "name": "stdout",
     "output_type": "stream",
     "text": [
      "361/361 [==============================] - 1s 2ms/step\n",
      "361/361 [==============================] - 1s 3ms/step\n",
      "\n",
      "The clean accuracy is:  98.64899974019225\n",
      "The attack success rate is:  100.0\n",
      "The pruned channel index is:  13\n"
     ]
    },
    {
     "name": "stderr",
     "output_type": "stream",
     "text": [
      "\r",
      " 47%|██████████████████████████████████████▎                                           | 28/60 [01:43<01:47,  3.36s/it]"
     ]
    },
    {
     "name": "stdout",
     "output_type": "stream",
     "text": [
      "361/361 [==============================] - 1s 3ms/step\n",
      "361/361 [==============================] - 1s 2ms/step\n",
      "\n",
      "The clean accuracy is:  98.64899974019225\n",
      "The attack success rate is:  100.0\n",
      "The pruned channel index is:  17\n"
     ]
    },
    {
     "name": "stderr",
     "output_type": "stream",
     "text": [
      "\r",
      " 48%|███████████████████████████████████████▋                                          | 29/60 [01:46<01:43,  3.32s/it]"
     ]
    },
    {
     "name": "stdout",
     "output_type": "stream",
     "text": [
      "361/361 [==============================] - 1s 3ms/step\n",
      "361/361 [==============================] - 1s 3ms/step\n",
      "\n",
      "The clean accuracy is:  98.64899974019225\n",
      "The attack success rate is:  100.0\n",
      "The pruned channel index is:  14\n"
     ]
    },
    {
     "name": "stderr",
     "output_type": "stream",
     "text": [
      "\r",
      " 50%|█████████████████████████████████████████                                         | 30/60 [01:49<01:40,  3.33s/it]"
     ]
    },
    {
     "name": "stdout",
     "output_type": "stream",
     "text": [
      "361/361 [==============================] - 1s 3ms/step\n",
      "361/361 [==============================] - 1s 3ms/step\n",
      "\n",
      "The clean accuracy is:  98.64899974019225\n",
      "The attack success rate is:  100.0\n",
      "The pruned channel index is:  15\n"
     ]
    },
    {
     "name": "stderr",
     "output_type": "stream",
     "text": [
      "\r",
      " 52%|██████████████████████████████████████████▎                                       | 31/60 [01:53<01:36,  3.34s/it]"
     ]
    },
    {
     "name": "stdout",
     "output_type": "stream",
     "text": [
      "361/361 [==============================] - 1s 3ms/step\n",
      "361/361 [==============================] - 1s 3ms/step\n",
      "\n",
      "The clean accuracy is:  98.64899974019225\n",
      "The attack success rate is:  100.0\n",
      "The pruned channel index is:  23\n"
     ]
    },
    {
     "name": "stderr",
     "output_type": "stream",
     "text": [
      "\r",
      " 53%|███████████████████████████████████████████▋                                      | 32/60 [01:56<01:33,  3.34s/it]"
     ]
    },
    {
     "name": "stdout",
     "output_type": "stream",
     "text": [
      "361/361 [==============================] - 1s 3ms/step\n",
      "361/361 [==============================] - 1s 2ms/step\n",
      "\n",
      "The clean accuracy is:  98.64899974019225\n",
      "The attack success rate is:  100.0\n",
      "The pruned channel index is:  6\n"
     ]
    },
    {
     "name": "stderr",
     "output_type": "stream",
     "text": [
      "\r",
      " 55%|█████████████████████████████████████████████                                     | 33/60 [01:59<01:29,  3.32s/it]"
     ]
    },
    {
     "name": "stdout",
     "output_type": "stream",
     "text": [
      "361/361 [==============================] - 1s 2ms/step\n",
      "361/361 [==============================] - 1s 2ms/step\n",
      "\n",
      "The clean accuracy is:  98.64033948211657\n",
      "The attack success rate is:  100.0\n",
      "The pruned channel index is:  51\n"
     ]
    },
    {
     "name": "stderr",
     "output_type": "stream",
     "text": [
      "\r",
      " 57%|██████████████████████████████████████████████▍                                   | 34/60 [02:02<01:25,  3.29s/it]"
     ]
    },
    {
     "name": "stdout",
     "output_type": "stream",
     "text": [
      "361/361 [==============================] - 1s 3ms/step\n",
      "361/361 [==============================] - 1s 2ms/step\n",
      "\n",
      "The clean accuracy is:  98.64033948211657\n",
      "The attack success rate is:  100.0\n",
      "The pruned channel index is:  32\n"
     ]
    },
    {
     "name": "stderr",
     "output_type": "stream",
     "text": [
      "\r",
      " 58%|███████████████████████████████████████████████▊                                  | 35/60 [02:06<01:21,  3.26s/it]"
     ]
    },
    {
     "name": "stdout",
     "output_type": "stream",
     "text": [
      "361/361 [==============================] - 1s 3ms/step\n",
      "361/361 [==============================] - 1s 2ms/step\n",
      "\n",
      "The clean accuracy is:  98.63167922404088\n",
      "The attack success rate is:  100.0\n",
      "The pruned channel index is:  22\n"
     ]
    },
    {
     "name": "stderr",
     "output_type": "stream",
     "text": [
      "\r",
      " 60%|█████████████████████████████████████████████████▏                                | 36/60 [02:09<01:17,  3.22s/it]"
     ]
    },
    {
     "name": "stdout",
     "output_type": "stream",
     "text": [
      "361/361 [==============================] - 1s 3ms/step\n",
      "361/361 [==============================] - 1s 2ms/step\n",
      "\n",
      "The clean accuracy is:  98.65765999826795\n",
      "The attack success rate is:  100.0\n",
      "The pruned channel index is:  21\n"
     ]
    },
    {
     "name": "stderr",
     "output_type": "stream",
     "text": [
      "\r",
      " 62%|██████████████████████████████████████████████████▌                               | 37/60 [02:12<01:15,  3.28s/it]"
     ]
    },
    {
     "name": "stdout",
     "output_type": "stream",
     "text": [
      "361/361 [==============================] - 1s 3ms/step\n",
      "361/361 [==============================] - 1s 3ms/step\n",
      "\n",
      "The clean accuracy is:  98.64899974019225\n",
      "The attack success rate is:  100.0\n",
      "The pruned channel index is:  20\n"
     ]
    },
    {
     "name": "stderr",
     "output_type": "stream",
     "text": [
      "\r",
      " 63%|███████████████████████████████████████████████████▉                              | 38/60 [02:16<01:12,  3.31s/it]"
     ]
    },
    {
     "name": "stdout",
     "output_type": "stream",
     "text": [
      "361/361 [==============================] - 1s 2ms/step\n",
      "361/361 [==============================] - 1s 3ms/step\n",
      "\n",
      "The clean accuracy is:  98.6056984498138\n",
      "The attack success rate is:  100.0\n",
      "The pruned channel index is:  19\n"
     ]
    },
    {
     "name": "stderr",
     "output_type": "stream",
     "text": [
      "\r",
      " 65%|█████████████████████████████████████████████████████▎                            | 39/60 [02:19<01:08,  3.28s/it]"
     ]
    },
    {
     "name": "stdout",
     "output_type": "stream",
     "text": [
      "361/361 [==============================] - 1s 3ms/step\n",
      "361/361 [==============================] - 1s 2ms/step\n",
      "\n",
      "The clean accuracy is:  98.57105741751104\n",
      "The attack success rate is:  100.0\n",
      "The pruned channel index is:  43\n"
     ]
    },
    {
     "name": "stderr",
     "output_type": "stream",
     "text": [
      "\r",
      " 67%|██████████████████████████████████████████████████████▋                           | 40/60 [02:22<01:06,  3.32s/it]"
     ]
    },
    {
     "name": "stdout",
     "output_type": "stream",
     "text": [
      "361/361 [==============================] - 1s 3ms/step\n",
      "361/361 [==============================] - 1s 2ms/step\n",
      "\n",
      "The clean accuracy is:  98.53641638520828\n",
      "The attack success rate is:  100.0\n",
      "The pruned channel index is:  58\n"
     ]
    },
    {
     "name": "stderr",
     "output_type": "stream",
     "text": [
      "\r",
      " 68%|████████████████████████████████████████████████████████                          | 41/60 [02:25<01:02,  3.31s/it]"
     ]
    },
    {
     "name": "stdout",
     "output_type": "stream",
     "text": [
      "361/361 [==============================] - 1s 3ms/step\n",
      "361/361 [==============================] - 1s 2ms/step\n",
      "\n",
      "The clean accuracy is:  98.19000606218066\n",
      "The attack success rate is:  100.0\n",
      "The pruned channel index is:  3\n"
     ]
    },
    {
     "name": "stderr",
     "output_type": "stream",
     "text": [
      "\r",
      " 70%|█████████████████████████████████████████████████████████▍                        | 42/60 [02:29<00:59,  3.30s/it]"
     ]
    },
    {
     "name": "stdout",
     "output_type": "stream",
     "text": [
      "361/361 [==============================] - 1s 2ms/step\n",
      "361/361 [==============================] - 1s 2ms/step\n",
      "\n",
      "The clean accuracy is:  97.65307006148784\n",
      "The attack success rate is:  100.0\n",
      "The pruned channel index is:  42\n"
     ]
    },
    {
     "name": "stderr",
     "output_type": "stream",
     "text": [
      "\r",
      " 72%|██████████████████████████████████████████████████████████▊                       | 43/60 [02:32<00:55,  3.27s/it]"
     ]
    },
    {
     "name": "stdout",
     "output_type": "stream",
     "text": [
      "361/361 [==============================] - 1s 2ms/step\n",
      "361/361 [==============================] - 1s 2ms/step\n",
      "\n",
      "The clean accuracy is:  97.50584567420108\n",
      "The attack success rate is:  100.0\n",
      "The pruned channel index is:  1\n"
     ]
    },
    {
     "name": "stderr",
     "output_type": "stream",
     "text": [
      "\r",
      " 73%|████████████████████████████████████████████████████████████▏                     | 44/60 [02:35<00:51,  3.21s/it]"
     ]
    },
    {
     "name": "stdout",
     "output_type": "stream",
     "text": [
      "361/361 [==============================] - 1s 3ms/step\n",
      "The accuracy drops at least 2%, saved the model\n",
      "361/361 [==============================] - 1s 2ms/step\n",
      "\n",
      "The clean accuracy is:  95.75647354291158\n",
      "The attack success rate is:  100.0\n",
      "The pruned channel index is:  29\n"
     ]
    },
    {
     "name": "stderr",
     "output_type": "stream",
     "text": [
      "\r",
      " 75%|█████████████████████████████████████████████████████████████▌                    | 45/60 [02:38<00:48,  3.21s/it]"
     ]
    },
    {
     "name": "stdout",
     "output_type": "stream",
     "text": [
      "361/361 [==============================] - 1s 2ms/step\n",
      "361/361 [==============================] - 1s 2ms/step\n",
      "\n",
      "The clean accuracy is:  95.21087728414307\n",
      "The attack success rate is:  99.9913397419243\n",
      "The pruned channel index is:  16\n"
     ]
    },
    {
     "name": "stderr",
     "output_type": "stream",
     "text": [
      "\r",
      " 77%|██████████████████████████████████████████████████████████████▊                   | 46/60 [02:41<00:44,  3.20s/it]"
     ]
    },
    {
     "name": "stdout",
     "output_type": "stream",
     "text": [
      "361/361 [==============================] - 1s 2ms/step\n",
      "361/361 [==============================] - 1s 2ms/step\n",
      "\n",
      "The clean accuracy is:  94.7172425738287\n",
      "The attack success rate is:  99.9913397419243\n",
      "The pruned channel index is:  56\n"
     ]
    },
    {
     "name": "stderr",
     "output_type": "stream",
     "text": [
      "\r",
      " 78%|████████████████████████████████████████████████████████████████▏                 | 47/60 [02:45<00:41,  3.18s/it]"
     ]
    },
    {
     "name": "stdout",
     "output_type": "stream",
     "text": [
      "361/361 [==============================] - 1s 2ms/step\n",
      "The accuracy drops at least 4%, saved the model\n",
      "361/361 [==============================] - 1s 2ms/step\n",
      "\n",
      "The clean accuracy is:  92.10184463497012\n",
      "The attack success rate is:  99.9913397419243\n",
      "The pruned channel index is:  46\n"
     ]
    },
    {
     "name": "stderr",
     "output_type": "stream",
     "text": [
      "\r",
      " 80%|█████████████████████████████████████████████████████████████████▌                | 48/60 [02:48<00:38,  3.18s/it]"
     ]
    },
    {
     "name": "stdout",
     "output_type": "stream",
     "text": [
      "361/361 [==============================] - 1s 3ms/step\n",
      "361/361 [==============================] - 1s 2ms/step\n",
      "\n",
      "The clean accuracy is:  91.49562656967177\n",
      "The attack success rate is:  99.9913397419243\n",
      "The pruned channel index is:  5\n"
     ]
    },
    {
     "name": "stderr",
     "output_type": "stream",
     "text": [
      "\r",
      " 82%|██████████████████████████████████████████████████████████████████▉               | 49/60 [02:51<00:35,  3.19s/it]"
     ]
    },
    {
     "name": "stdout",
     "output_type": "stream",
     "text": [
      "361/361 [==============================] - 1s 2ms/step\n",
      "361/361 [==============================] - 1s 2ms/step\n",
      "\n",
      "The clean accuracy is:  91.0106521174331\n",
      "The attack success rate is:  99.98267948384861\n",
      "The pruned channel index is:  8\n"
     ]
    },
    {
     "name": "stderr",
     "output_type": "stream",
     "text": [
      "\r",
      " 83%|████████████████████████████████████████████████████████████████████▎             | 50/60 [02:54<00:31,  3.16s/it]"
     ]
    },
    {
     "name": "stdout",
     "output_type": "stream",
     "text": [
      "361/361 [==============================] - 1s 3ms/step\n",
      "361/361 [==============================] - 1s 2ms/step\n",
      "\n",
      "The clean accuracy is:  89.166017147311\n",
      "The attack success rate is:  80.73958603966398\n",
      "The pruned channel index is:  11\n"
     ]
    },
    {
     "name": "stderr",
     "output_type": "stream",
     "text": [
      "\r",
      " 85%|█████████████████████████████████████████████████████████████████████▋            | 51/60 [02:57<00:28,  3.15s/it]"
     ]
    },
    {
     "name": "stdout",
     "output_type": "stream",
     "text": [
      "361/361 [==============================] - 1s 2ms/step\n",
      "The accuracy drops at least 10%, saved the model\n",
      "361/361 [==============================] - 1s 3ms/step\n",
      "\n",
      "The clean accuracy is:  84.44617649605958\n",
      "The attack success rate is:  77.015675067117\n",
      "The pruned channel index is:  54\n"
     ]
    },
    {
     "name": "stderr",
     "output_type": "stream",
     "text": [
      "\r",
      " 87%|███████████████████████████████████████████████████████████████████████           | 52/60 [03:00<00:25,  3.18s/it]"
     ]
    },
    {
     "name": "stdout",
     "output_type": "stream",
     "text": [
      "361/361 [==============================] - 1s 2ms/step\n",
      "361/361 [==============================] - 1s 2ms/step\n",
      "\n",
      "The clean accuracy is:  76.4614185502728\n",
      "The attack success rate is:  35.723564562223956\n",
      "The pruned channel index is:  10\n"
     ]
    },
    {
     "name": "stderr",
     "output_type": "stream",
     "text": [
      "\r",
      " 88%|████████████████████████████████████████████████████████████████████████▍         | 53/60 [03:03<00:22,  3.16s/it]"
     ]
    },
    {
     "name": "stdout",
     "output_type": "stream",
     "text": [
      "361/361 [==============================] - 1s 2ms/step\n",
      "361/361 [==============================] - 1s 2ms/step\n",
      "\n",
      "The clean accuracy is:  54.85407465142461\n",
      "The attack success rate is:  6.954187234779596\n",
      "The pruned channel index is:  28\n"
     ]
    },
    {
     "name": "stderr",
     "output_type": "stream",
     "text": [
      "\r",
      " 90%|█████████████████████████████████████████████████████████████████████████▊        | 54/60 [03:07<00:18,  3.16s/it]"
     ]
    },
    {
     "name": "stdout",
     "output_type": "stream",
     "text": [
      "361/361 [==============================] - 1s 2ms/step\n",
      "361/361 [==============================] - 1s 2ms/step\n",
      "\n",
      "The clean accuracy is:  27.08928726076037\n",
      "The attack success rate is:  0.4243526457088421\n",
      "The pruned channel index is:  35\n"
     ]
    },
    {
     "name": "stderr",
     "output_type": "stream",
     "text": [
      "\r",
      " 92%|███████████████████████████████████████████████████████████████████████████▏      | 55/60 [03:10<00:15,  3.16s/it]"
     ]
    },
    {
     "name": "stdout",
     "output_type": "stream",
     "text": [
      "361/361 [==============================] - 1s 3ms/step\n",
      "361/361 [==============================] - 1s 3ms/step\n",
      "\n",
      "The clean accuracy is:  13.882393695332121\n",
      "The attack success rate is:  0.0\n",
      "The pruned channel index is:  18\n"
     ]
    },
    {
     "name": "stderr",
     "output_type": "stream",
     "text": [
      "\r",
      " 93%|████████████████████████████████████████████████████████████████████████████▌     | 56/60 [03:13<00:12,  3.21s/it]"
     ]
    },
    {
     "name": "stdout",
     "output_type": "stream",
     "text": [
      "361/361 [==============================] - 1s 2ms/step\n",
      "361/361 [==============================] - 1s 2ms/step\n",
      "\n",
      "The clean accuracy is:  7.101411622066338\n",
      "The attack success rate is:  0.0\n",
      "The pruned channel index is:  4\n"
     ]
    },
    {
     "name": "stderr",
     "output_type": "stream",
     "text": [
      "\r",
      " 95%|█████████████████████████████████████████████████████████████████████████████▉    | 57/60 [03:16<00:09,  3.21s/it]"
     ]
    },
    {
     "name": "stdout",
     "output_type": "stream",
     "text": [
      "361/361 [==============================] - 1s 2ms/step\n",
      "361/361 [==============================] - 1s 3ms/step\n",
      "\n",
      "The clean accuracy is:  1.5415259374729366\n",
      "The attack success rate is:  0.0\n",
      "The pruned channel index is:  7\n"
     ]
    },
    {
     "name": "stderr",
     "output_type": "stream",
     "text": [
      "\r",
      " 97%|███████████████████████████████████████████████████████████████████████████████▎  | 58/60 [03:20<00:06,  3.22s/it]"
     ]
    },
    {
     "name": "stdout",
     "output_type": "stream",
     "text": [
      "361/361 [==============================] - 1s 2ms/step\n",
      "361/361 [==============================] - 1s 2ms/step\n",
      "\n",
      "The clean accuracy is:  0.7188014202823244\n",
      "The attack success rate is:  0.0\n",
      "The pruned channel index is:  52\n"
     ]
    },
    {
     "name": "stderr",
     "output_type": "stream",
     "text": [
      "\r",
      " 98%|████████████████████████████████████████████████████████████████████████████████▋ | 59/60 [03:23<00:03,  3.21s/it]"
     ]
    },
    {
     "name": "stdout",
     "output_type": "stream",
     "text": [
      "361/361 [==============================] - 1s 3ms/step\n",
      "361/361 [==============================] - 1s 3ms/step\n",
      "\n",
      "The clean accuracy is:  0.0779423226812159\n",
      "The attack success rate is:  0.0\n",
      "The pruned channel index is:  57\n"
     ]
    },
    {
     "name": "stderr",
     "output_type": "stream",
     "text": [
      "100%|██████████████████████████████████████████████████████████████████████████████████| 60/60 [03:26<00:00,  3.44s/it]\n"
     ]
    }
   ],
   "source": [
    "import gc\n",
    "\n",
    "clean_data_acc = 98.64899974019225  # Clean data accuracy from the main function cell\n",
    "prune_index = []\n",
    "clean_val_acc = []  # List to store clean validation accuracies\n",
    "bd_asr = []  # List to store backdoor attack success rates\n",
    "saved_model = np.zeros(3, dtype=bool)  # Array to keep track of saved models\n",
    "\n",
    "# Obtain activations from 'pool_3' layer of BadNet B_dash model for clean validation set\n",
    "cl_activations = intermediate_pooling_model.predict(cl_X_val, verbose=0)\n",
    "mean_cl_activations = np.mean(cl_activations, axis=(0, 1, 2))  # Calculate mean activations\n",
    "seq = np.argsort(mean_cl_activations)  # Sort channels by mean activations in ascending order\n",
    "\n",
    "# Loop through the channel indices sorted by mean activations\n",
    "for channel_index in tqdm(seq):\n",
    "    # Get weights of the convolutional layer that needs pruning\n",
    "    weight_0, bias_0 = B_d.get_layer('conv_3').get_weights()\n",
    "    \n",
    "    # Set weights of the channel to zero for pruning\n",
    "    weight_0[:, :, :, channel_index] = 0\n",
    "    bias_0[channel_index] = 0\n",
    "    \n",
    "    # Set pruned weights to the convolutional layer\n",
    "    B_d.get_layer('conv_3').set_weights([weight_0, bias_0])\n",
    "\n",
    "    # Calculate clean accuracy after pruning the channel\n",
    "    cl_pred = np.argmax(B_d.predict(cl_X_val), axis=1)\n",
    "    clean_accuracy = np.mean(np.equal(cl_pred, cl_y_val)) * 100\n",
    "\n",
    "    # Save the model based on accuracy drop conditions\n",
    "    for i, threshold in enumerate([2, 4, 10]):\n",
    "        if (clean_data_acc - clean_accuracy >= threshold) and not saved_model[i]:\n",
    "            print(f\"The accuracy drops at least {threshold}%, saved the model\")\n",
    "            B_d.save(f'model_X={threshold}.h5')\n",
    "            saved_model[i] = True\n",
    "\n",
    "    # Measure attack success rate and store metrics\n",
    "    clean_val_acc.append(clean_accuracy)\n",
    "    bd_pred = np.argmax(B_d.predict(bd_X_val), axis=1)\n",
    "    asr = np.mean(np.equal(bd_pred, bd_y_val)) * 100\n",
    "    bd_asr.append(asr)\n",
    "\n",
    "    # Print and display metrics\n",
    "    print()\n",
    "    print(\"The clean accuracy is: \", clean_accuracy)\n",
    "    print(\"The attack success rate is: \", asr)\n",
    "    print(\"The pruned channel index is: \", channel_index)\n",
    "\n",
    "    # Clear large variables and reset session\n",
    "    intermediate_prediction = None\n",
    "    keras.backend.clear_session()\n",
    "    gc.collect()  # Perform garbage collection to free memory\n"
   ]
  },
  {
   "cell_type": "code",
   "execution_count": 12,
   "id": "95ed8dc5",
   "metadata": {},
   "outputs": [
    {
     "data": {
      "image/png": "[encoded data removed]",
      "text/plain": [
       "<Figure size 1000x600 with 1 Axes>"
      ]
     },
     "metadata": {},
     "output_type": "display_data"
    }
   ],
   "source": [
    "x_axis = list(range(len(seq)))\n",
    "plt.figure(figsize=(10, 6))\n",
    "\n",
    "plt.plot(x_axis, clean_val_acc, label='Clean Validation Accuracy', marker='o')\n",
    "plt.plot(x_axis, bd_asr, label='BD Validation Success Rate', marker='x')\n",
    "\n",
    "thresholds = [2, 4, 10]\n",
    "colors = ['red', 'purple', 'green']\n",
    "threshold_labels = ['2% Threshold', '4% Threshold', '10% Threshold']\n",
    "\n",
    "for threshold, color, label in zip(thresholds, colors, threshold_labels):\n",
    "    plt.axhline(max(clean_val_acc) - threshold, linestyle='--', label=label, color=color)\n",
    "\n",
    "plt.legend()\n",
    "plt.title('Validation Dataset - Accuracy and Attack Success Rate')\n",
    "plt.xlabel('Channel Index')\n",
    "plt.ylabel('Accuracy / Success Rate')\n",
    "\n",
    "plt.show()\n"
   ]
  },
  {
   "cell_type": "markdown",
   "id": "d51610d4",
   "metadata": {},
   "source": [
    "# GoodNet"
   ]
  },
  {
   "cell_type": "code",
   "execution_count": 13,
   "id": "b1d9ff3b",
   "metadata": {},
   "outputs": [],
   "source": [
    "# Defining Good Net (G) Model which uses both B and B' for prediction. It␣identifies and labels the detected Bad Samples as n+1 class.\n",
    "class G(keras.Model):\n",
    "    def __init__(self, B,B_dash,num_classes=1283):\n",
    "        super().__init__() \n",
    "        self.B = keras.models.load_model(B)\n",
    "        self.B_dash = keras.models.load_model(B_dash)\n",
    "        self.bd_class = num_classes \n",
    "\n",
    "\n",
    "    def predict(self, data):\n",
    "        B_pred = np.argmax(self.B.predict(data, verbose=1), axis=1)\n",
    "        B_dash_pred = np.argmax(self.B_dash.predict(data, verbose=1), axis=1)\n",
    "\n",
    "        y_preds = []\n",
    "        for i in range(len(B_pred)):\n",
    "            if B_pred[i] == B_dash_pred[i]:\n",
    "                y_preds.append(B_pred[i])\n",
    "            else:\n",
    "                y_preds.append(self.bd_class)\n",
    "        \n",
    "        return y_preds\n"
   ]
  },
  {
   "cell_type": "code",
   "execution_count": 14,
   "id": "9261c8f2",
   "metadata": {},
   "outputs": [],
   "source": [
    "cl_test_file = 'C:\\\\Users\\\\DarkShepard\\\\Desktop\\\\lab3\\\\cl\\\\test.h5'\n",
    "bd_test_file = 'C:\\\\Users\\\\DarkShepard\\\\Desktop\\\\lab3\\\\bd\\\\bd_test.h5'\n",
    "test_model_X_2_file = 'model_X=2.h5'\n",
    "test_model_X_4_file = 'model_X=4.h5'\n",
    "test_model_X_10_file = 'model_X=10.h5'"
   ]
  },
  {
   "cell_type": "code",
   "execution_count": 15,
   "id": "6da56b2d",
   "metadata": {},
   "outputs": [
    {
     "name": "stdout",
     "output_type": "stream",
     "text": [
      "cl test data shape:  (12830, 55, 47, 3)\n",
      "bd test data shape:  (12830, 55, 47, 3)\n"
     ]
    }
   ],
   "source": [
    "cl_X_test,cl_y_test = load_data(cl_test_file)\n",
    "bd_X_test,bd_y_test = load_data(bd_test_file)\n",
    "print(\"cl test data shape: \",cl_X_test.shape)\n",
    "print(\"bd test data shape: \",bd_X_test.shape)"
   ]
  },
  {
   "cell_type": "code",
   "execution_count": 16,
   "id": "b196d507",
   "metadata": {},
   "outputs": [
    {
     "name": "stdout",
     "output_type": "stream",
     "text": [
      "401/401 [==============================] - 1s 3ms/step\n",
      "401/401 [==============================] - 1s 3ms/step\n",
      "Clean Classification Accuracy: 95.74434918160561\n",
      "401/401 [==============================] - 1s 3ms/step\n",
      "401/401 [==============================] - 1s 3ms/step\n",
      "Attack Success Rate: 100.0\n"
     ]
    }
   ],
   "source": [
    "G_X_2 = G(model_file, test_model_X_2_file)\n",
    "# Predict on Clean Set\n",
    "cl_test_pred_2 = G_X_2.predict(cl_X_test)\n",
    "cl_test_acc_2 = np.mean(np.equal(cl_test_pred_2, cl_y_test))*100\n",
    "print('Clean Classification Accuracy:', cl_test_acc_2)\n",
    "# Predict on Bad Set\n",
    "bd_test_pred_2 = G_X_2.predict(bd_X_test)\n",
    "bd_test_sr_2 = np.mean(np.equal(bd_test_pred_2, bd_y_test))*100\n",
    "print('Attack Success Rate:', bd_test_sr_2)\n"
   ]
  },
  {
   "cell_type": "code",
   "execution_count": 17,
   "id": "a8f59190",
   "metadata": {},
   "outputs": [
    {
     "name": "stdout",
     "output_type": "stream",
     "text": [
      "401/401 [==============================] - 1s 3ms/step\n",
      "401/401 [==============================] - 1s 2ms/step\n",
      "Clean Classification Accuracy: 92.1278254091972\n",
      "401/401 [==============================] - 1s 2ms/step\n",
      "401/401 [==============================] - 1s 2ms/step\n",
      "Attack Success Rate: 99.98441153546376\n"
     ]
    }
   ],
   "source": [
    "G_X_4 = G(model_file, test_model_X_4_file)\n",
    "# Predict on Clean Set\n",
    "cl_test_pred_4 = G_X_4.predict(cl_X_test)\n",
    "cl_test_acc_4 = np.mean(np.equal(cl_test_pred_4, cl_y_test))*100\n",
    "print('Clean Classification Accuracy:', cl_test_acc_4)\n",
    "# Predict on Bad Set\n",
    "bd_test_pred_4 = G_X_4.predict(bd_X_test)\n",
    "bd_test_sr_4 = np.mean(np.equal(bd_test_pred_4, bd_y_test))*100\n",
    "print('Attack Success Rate:', bd_test_sr_4)\n"
   ]
  },
  {
   "cell_type": "code",
   "execution_count": 18,
   "id": "a4677afc",
   "metadata": {},
   "outputs": [
    {
     "name": "stdout",
     "output_type": "stream",
     "text": [
      "401/401 [==============================] - 1s 2ms/step\n",
      "401/401 [==============================] - 1s 3ms/step\n",
      "Clean Classification Accuracy: 84.3335931410756\n",
      "401/401 [==============================] - 1s 2ms/step\n",
      "401/401 [==============================] - 1s 2ms/step\n",
      "Attack Success Rate: 77.20187061574435\n"
     ]
    }
   ],
   "source": [
    "G_X_10 = G(model_file, test_model_X_10_file)\n",
    "# Predict on Clean Set\n",
    "cl_test_pred_10 = G_X_10.predict(cl_X_test)\n",
    "cl_test_acc_10 = np.mean(np.equal(cl_test_pred_10, cl_y_test))*100\n",
    "print('Clean Classification Accuracy:', cl_test_acc_10)\n",
    "# Predict on Bad Set\n",
    "bd_test_pred_10 = G_X_10.predict(bd_X_test)\n",
    "bd_test_sr_10 = np.mean(np.equal(bd_test_pred_10, bd_y_test))*100\n",
    "print('Attack Success Rate:', bd_test_sr_10)"
   ]
  },
  {
   "cell_type": "code",
   "execution_count": 19,
   "id": "cc37526b",
   "metadata": {},
   "outputs": [
    {
     "data": {
      "text/html": [
       "<div>\n",
       "<style scoped>\n",
       "    .dataframe tbody tr th:only-of-type {\n",
       "        vertical-align: middle;\n",
       "    }\n",
       "\n",
       "    .dataframe tbody tr th {\n",
       "        vertical-align: top;\n",
       "    }\n",
       "\n",
       "    .dataframe thead th {\n",
       "        text-align: right;\n",
       "    }\n",
       "</style>\n",
       "<table border=\"1\" class=\"dataframe\">\n",
       "  <thead>\n",
       "    <tr style=\"text-align: right;\">\n",
       "      <th></th>\n",
       "      <th>Accuracy</th>\n",
       "      <th>Attack_Rate</th>\n",
       "    </tr>\n",
       "    <tr>\n",
       "      <th>model</th>\n",
       "      <th></th>\n",
       "      <th></th>\n",
       "    </tr>\n",
       "  </thead>\n",
       "  <tbody>\n",
       "    <tr>\n",
       "      <th>repaired_2%</th>\n",
       "      <td>95.744349</td>\n",
       "      <td>100.000000</td>\n",
       "    </tr>\n",
       "    <tr>\n",
       "      <th>repaired_4%</th>\n",
       "      <td>92.127825</td>\n",
       "      <td>99.984412</td>\n",
       "    </tr>\n",
       "    <tr>\n",
       "      <th>repaired_10%</th>\n",
       "      <td>84.333593</td>\n",
       "      <td>77.201871</td>\n",
       "    </tr>\n",
       "  </tbody>\n",
       "</table>\n",
       "</div>"
      ],
      "text/plain": [
       "               Accuracy  Attack_Rate\n",
       "model                               \n",
       "repaired_2%   95.744349   100.000000\n",
       "repaired_4%   92.127825    99.984412\n",
       "repaired_10%  84.333593    77.201871"
      ]
     },
     "execution_count": 19,
     "metadata": {},
     "output_type": "execute_result"
    }
   ],
   "source": [
    "test_acc = [cl_test_acc_2, cl_test_acc_4, cl_test_acc_10]\n",
    "attack_rate = [bd_test_sr_2, bd_test_sr_4, bd_test_sr_10]\n",
    "data = {\n",
    "    \"Accuracy\": test_acc,\n",
    "    \"Attack_Rate\": attack_rate,\n",
    "    \"model\": [\"repaired_2%\", \"repaired_4%\", \"repaired_10%\"]\n",
    "}\n",
    "df = pd.DataFrame(data)\n",
    "df.set_index('model')"
   ]
  },
  {
   "cell_type": "code",
   "execution_count": null,
   "id": "e3938a0e",
   "metadata": {},
   "outputs": [],
   "source": []
  }
 ],
 "metadata": {
  "kernelspec": {
   "display_name": "Python 3 (ipykernel)",
   "language": "python",
   "name": "python3"
  },
  "language_info": {
   "codemirror_mode": {
    "name": "ipython",
    "version": 3
   },
   "file_extension": ".py",
   "mimetype": "text/x-python",
   "name": "python",
   "nbconvert_exporter": "python",
   "pygments_lexer": "ipython3",
   "version": "3.9.16"
  }
 },
 "nbformat": 4,
 "nbformat_minor": 5
}
